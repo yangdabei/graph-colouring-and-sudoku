{
 "cells": [
  {
   "cell_type": "markdown",
   "id": "287bfcea",
   "metadata": {},
   "source": [
    "# Graph Colouring\n",
    "The following notebook finds colourings for graphs using Gröbner bases. We implement the *graph polynomial method* and the *roots of unity method*."
   ]
  },
  {
   "cell_type": "code",
   "execution_count": 1,
   "id": "5d41d44a",
   "metadata": {},
   "outputs": [],
   "source": [
    "from sympy import *\n",
    "import networkx as nx\n",
    "import matplotlib.pyplot as plt\n",
    "from mpmath import cplot"
   ]
  },
  {
   "cell_type": "code",
   "execution_count": 24,
   "id": "352e8ca3",
   "metadata": {},
   "outputs": [],
   "source": [
    "# generate random graph (Erdos-Renyi graph)\n",
    "G = nx.fast_gnp_random_graph(6,0.5)"
   ]
  },
  {
   "cell_type": "code",
   "execution_count": 25,
   "id": "00e682af",
   "metadata": {},
   "outputs": [
    {
     "data": {
      "image/png": "[encoded data removed]",
      "text/plain": [
       "<Figure size 432x288 with 1 Axes>"
      ]
     },
     "metadata": {},
     "output_type": "display_data"
    }
   ],
   "source": [
    "nx.draw(G, with_labels=True)"
   ]
  },
  {
   "cell_type": "code",
   "execution_count": 26,
   "id": "deb41ec9",
   "metadata": {},
   "outputs": [],
   "source": [
    "# initialise variables to solve for and gets edge pairs\n",
    "var('x')\n",
    "vertices = [Symbol('x' + str(i)) for i in list(G.nodes)]\n",
    "edges = [(vertices[i], vertices[j]) for i, j in list(G.edges)]"
   ]
  },
  {
   "cell_type": "markdown",
   "id": "3098f300",
   "metadata": {},
   "source": [
    "---\n",
    "---"
   ]
  },
  {
   "cell_type": "markdown",
   "id": "6e5e87eb",
   "metadata": {},
   "source": [
    "## Graph Polynomial Method"
   ]
  },
  {
   "cell_type": "markdown",
   "id": "a72504f9",
   "metadata": {},
   "source": [
    "Fix $k$. Then $G$ is $k$-colourable if and only if $f_G\\notin I$. We use $k=3$ for these examples."
   ]
  },
  {
   "cell_type": "code",
   "execution_count": 27,
   "id": "5a7ddb2c",
   "metadata": {},
   "outputs": [
    {
     "data": {
      "text/plain": [
       "False"
      ]
     },
     "execution_count": 27,
     "metadata": {},
     "output_type": "execute_result"
    }
   ],
   "source": [
    "# determine if G is k-colourable\n",
    "k = 3\n",
    "\n",
    "# initialises generators of ideal for the given graph\n",
    "ideal_gp = []\n",
    "for x in vertices:\n",
    "    ideal_gp.append(x**3-1)\n",
    "\n",
    "# graph polyomial\n",
    "f_G = 1\n",
    "for u,v in edges:\n",
    "    f_G *= (u-v)\n",
    "\n",
    "ideal_gp_groebner = groebner(ideal_gp)\n",
    "\n",
    "ideal_gp_groebner.contains(f_G)"
   ]
  },
  {
   "cell_type": "markdown",
   "id": "acb50947",
   "metadata": {},
   "source": [
    "---\n",
    "---"
   ]
  },
  {
   "cell_type": "markdown",
   "id": "d3fd43dc",
   "metadata": {},
   "source": [
    "## Roots of Unity Method"
   ]
  },
  {
   "cell_type": "code",
   "execution_count": 28,
   "id": "0cc99de7",
   "metadata": {},
   "outputs": [],
   "source": [
    "# initialises generators of ideal for the given graph\n",
    "ideal_roi = []\n",
    "for x in vertices:\n",
    "    ideal_roi.append( x**3 -1 )\n",
    "for u,v in edges:\n",
    "    ideal_roi.append( u**2 + u*v + v**2)\n",
    "g_basis_roi = groebner(ideal_roi)"
   ]
  },
  {
   "cell_type": "code",
   "execution_count": 29,
   "id": "947e86aa",
   "metadata": {},
   "outputs": [
    {
     "data": {
      "text/plain": [
       "True"
      ]
     },
     "execution_count": 29,
     "metadata": {},
     "output_type": "execute_result"
    }
   ],
   "source": [
    "# verify that g_basis is non-trivial\n",
    "g_basis_roi != [1]"
   ]
  },
  {
   "cell_type": "code",
   "execution_count": 30,
   "id": "fc344533",
   "metadata": {},
   "outputs": [
    {
     "data": {
      "text/plain": [
       "[x0**2 - x0*x4 - x0*x5 + x4*x5,\n",
       " x1 + x4 + x5,\n",
       " x2 + x4 + x5,\n",
       " x3**2 - x3*x4 - x3*x5 + x4*x5,\n",
       " x4**2 + x4*x5 + x5**2,\n",
       " x5**3 - 1]"
      ]
     },
     "execution_count": 30,
     "metadata": {},
     "output_type": "execute_result"
    }
   ],
   "source": [
    "list(g_basis_roi)"
   ]
  },
  {
   "cell_type": "code",
   "execution_count": 31,
   "id": "38f9942e",
   "metadata": {},
   "outputs": [
    {
     "data": {
      "image/png": "[encoded data removed]",
      "text/plain": [
       "<Figure size 432x288 with 1 Axes>"
      ]
     },
     "metadata": {
      "needs_background": "light"
     },
     "output_type": "display_data"
    }
   ],
   "source": [
    "# visualise roots of x^3-1\n",
    "\n",
    "fig = plt.figure()\n",
    "axes = fig.add_subplot(111)\n",
    "axes.set_title(r\"Density plot of $z^3 - 1$ in the complex plane.\")\n",
    "\n",
    "cplot(lambda z: z**3 - 1, re=[-2, 2], im=[-2, 2], axes=axes)"
   ]
  },
  {
   "cell_type": "code",
   "execution_count": 32,
   "id": "ebed91ab",
   "metadata": {},
   "outputs": [
    {
     "data": {
      "text/plain": [
       "[1, -1/2 - sqrt(3)*I/2, -1/2 + sqrt(3)*I/2]"
      ]
     },
     "execution_count": 32,
     "metadata": {},
     "output_type": "execute_result"
    }
   ],
   "source": [
    "# initialise cube roots of unity\n",
    "unityroots = roots(x**3 - 1, multiple=True)\n",
    "unityroots"
   ]
  },
  {
   "cell_type": "code",
   "execution_count": 33,
   "id": "22085e9e",
   "metadata": {},
   "outputs": [],
   "source": [
    "# initialise colour variables to make reading colouring solution easier\n",
    "colour_variables = var('red,green,blue')"
   ]
  },
  {
   "cell_type": "code",
   "execution_count": 34,
   "id": "1030421d",
   "metadata": {},
   "outputs": [],
   "source": [
    "# solves for colourings\n",
    "colourings = solve(g_basis_roi, vertices)"
   ]
  },
  {
   "cell_type": "code",
   "execution_count": 35,
   "id": "c6f027b4",
   "metadata": {},
   "outputs": [
    {
     "name": "stdout",
     "output_type": "stream",
     "text": [
      "[red, green, green, red, red, -green - 1]\n",
      "[red, green, green, red, -green - 1, red]\n",
      "[red, green, green, -green - 1, red, -green - 1]\n",
      "[red, green, green, -green - 1, -green - 1, red]\n",
      "[red, -green - 1, -green - 1, red, red, green]\n",
      "[red, -green - 1, -green - 1, red, green, red]\n",
      "[red, -green - 1, -green - 1, green, red, green]\n",
      "[red, -green - 1, -green - 1, green, green, red]\n",
      "[green, red, red, green, green, -green - 1]\n",
      "[green, red, red, green, -green - 1, green]\n",
      "[green, red, red, -green - 1, green, -green - 1]\n",
      "[green, red, red, -green - 1, -green - 1, green]\n",
      "[green, -green - 1, -green - 1, red, red, green]\n",
      "[green, -green - 1, -green - 1, red, green, red]\n",
      "[green, -green - 1, -green - 1, green, red, green]\n",
      "[green, -green - 1, -green - 1, green, green, red]\n",
      "[-green - 1, red, red, green, green, -green - 1]\n",
      "[-green - 1, red, red, green, -green - 1, green]\n",
      "[-green - 1, red, red, -green - 1, green, -green - 1]\n",
      "[-green - 1, red, red, -green - 1, -green - 1, green]\n",
      "[-green - 1, green, green, red, red, -green - 1]\n",
      "[-green - 1, green, green, red, -green - 1, red]\n",
      "[-green - 1, green, green, -green - 1, red, -green - 1]\n",
      "[-green - 1, green, green, -green - 1, -green - 1, red]\n"
     ]
    }
   ],
   "source": [
    "# prints possible graph colourings\n",
    "for colouring in colourings:\n",
    "    colour_list = [colour.expand(complex=True).subs(zip(unityroots, colour_variables)) for colour in colouring]\n",
    "    print(colour_list)"
   ]
  },
  {
   "cell_type": "markdown",
   "id": "70d7fe18",
   "metadata": {},
   "source": [
    "Note that `-green-1=1/2 + sqrt(3)*I/2 - 1 = -1/2 + sqrt(3)*I/2 = blue`."
   ]
  }
 ],
 "metadata": {
  "kernelspec": {
   "display_name": "Python 3 (ipykernel)",
   "language": "python",
   "name": "python3"
  },
  "language_info": {
   "codemirror_mode": {
    "name": "ipython",
    "version": 3
   },
   "file_extension": ".py",
   "mimetype": "text/x-python",
   "name": "python",
   "nbconvert_exporter": "python",
   "pygments_lexer": "ipython3",
   "version": "3.9.7"
  }
 },
 "nbformat": 4,
 "nbformat_minor": 5
}
