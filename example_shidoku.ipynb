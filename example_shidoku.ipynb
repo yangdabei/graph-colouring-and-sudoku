{
 "cells": [
  {
   "cell_type": "markdown",
   "id": "da2da7b5",
   "metadata": {},
   "source": [
    "# Solving Shidoku using Gröbner bases\n",
    "\n",
    "The following notebook provides solutions for the sample Shidoku given in Figure 2 (left) in `main.pdf` using the *product-quotient method*, the *roots of unity method*, the *sum-product method*, and the *boolean-variable* method."
   ]
  },
  {
   "cell_type": "code",
   "execution_count": 1,
   "id": "e9710f50",
   "metadata": {},
   "outputs": [],
   "source": [
    "from sympy import *\n",
    "import networkx as nx\n",
    "import numpy as np\n",
    "import matplotlib as mpl\n",
    "import matplotlib.pyplot as plt"
   ]
  },
  {
   "cell_type": "code",
   "execution_count": 2,
   "id": "c74d2725",
   "metadata": {},
   "outputs": [],
   "source": [
    "puzzle = np.asarray(\n",
    "    [\n",
    "        [3,0,0,0],\n",
    "        [0,2,0,4],\n",
    "        [0,1,0,0],\n",
    "        [0,0,4,0]\n",
    "    ]\n",
    ")"
   ]
  },
  {
   "cell_type": "code",
   "execution_count": 3,
   "id": "f924929b",
   "metadata": {},
   "outputs": [
    {
     "data": {
      "image/png": "[encoded data removed]",
      "text/plain": [
       "<Figure size 360x360 with 1 Axes>"
      ]
     },
     "metadata": {},
     "output_type": "display_data"
    }
   ],
   "source": [
    "# https://networkx.org/nx-guides/content/generators/sudoku.html\n",
    "\n",
    "n = 2\n",
    "G = nx.sudoku_graph(n)\n",
    "mapping = dict(zip(G.nodes(), puzzle.flatten()))\n",
    "pos = dict(zip(list(G.nodes()), nx.grid_2d_graph(n * n, n * n)))\n",
    "\n",
    "# we map the nodes 1-9 to a colormap\n",
    "low, *_, high = sorted(mapping.values())\n",
    "norm = mpl.colors.Normalize(vmin=low, vmax=high, clip=True)\n",
    "mapper = mpl.cm.ScalarMappable(norm=norm, cmap=mpl.cm.Pastel1)\n",
    "\n",
    "plt.figure(figsize=(5, 5))\n",
    "nx.draw(\n",
    "    G,\n",
    "    labels=mapping,\n",
    "    pos=pos,\n",
    "    with_labels=True,\n",
    "    node_color=[mapper.to_rgba(i) for i in mapping.values()],\n",
    "    width=1,\n",
    "    node_size=1000,\n",
    ")\n",
    "plt.show()"
   ]
  },
  {
   "cell_type": "code",
   "execution_count": 4,
   "id": "b7382100",
   "metadata": {},
   "outputs": [],
   "source": [
    "# initialises variables to solve for\n",
    "var('x')\n",
    "vertices = [Symbol('x' + str(i)) for i in list(G.nodes)]\n",
    "edges = [(vertices[i], vertices[j]) for i, j in list(G.edges)]"
   ]
  },
  {
   "cell_type": "markdown",
   "id": "09e3970c",
   "metadata": {},
   "source": [
    "---\n",
    "---"
   ]
  },
  {
   "cell_type": "markdown",
   "id": "27519add",
   "metadata": {},
   "source": [
    "## Quotient Method"
   ]
  },
  {
   "cell_type": "code",
   "execution_count": 5,
   "id": "911b5f72",
   "metadata": {},
   "outputs": [
    {
     "data": {
      "text/plain": [
       "True"
      ]
     },
     "execution_count": 5,
     "metadata": {},
     "output_type": "execute_result"
    }
   ],
   "source": [
    "# ideal I_S generated by the product-quotient method \n",
    "ideal_s = []\n",
    "\n",
    "def F_i(x, n):\n",
    "    prod = 1\n",
    "    for i in range(1,n+1):\n",
    "        prod *= (x-i)\n",
    "    return prod\n",
    "\n",
    "for x in vertices:\n",
    "    ideal_s.append(F_i(x,4))\n",
    "for i,j in edges:\n",
    "    H_ij,_ = div(F_i(i,4) - F_i(j,4), i-j)\n",
    "    ideal_s.append(H_ij)\n",
    "\n",
    "puzzle_clues = [Symbol('x0')-3, Symbol('x5')-2, Symbol('x7')-4, Symbol('x9')-1, Symbol('x14')-4]\n",
    "ideal_s.extend(puzzle_clues)\n",
    "\n",
    "g_basis_s = groebner(ideal_s)\n",
    "\n",
    "# check whether there is a solution, i.e., V(I) != emptyset\n",
    "g_basis_s != [1]"
   ]
  },
  {
   "cell_type": "code",
   "execution_count": 6,
   "id": "8ab1767a",
   "metadata": {},
   "outputs": [
    {
     "data": {
      "text/latex": [
       "$\\displaystyle GroebnerBasis\\left(\\left( x_{0} - 3, \\  x_{1} - 4, \\  x_{2} - 1, \\  x_{3} - 2, \\  x_{4} - 1, \\  x_{5} - 2, \\  x_{6} - 3, \\  x_{7} - 4, \\  x_{8} - 4, \\  x_{9} - 1, \\  x_{10} - 2, \\  x_{11} - 3, \\  x_{12} - 2, \\  x_{13} - 3, \\  x_{14} - 4, \\  x_{15} - 1\\right), \\left( x_{0}, \\  x_{1}, \\  x_{2}, \\  x_{3}, \\  x_{4}, \\  x_{5}, \\  x_{6}, \\  x_{7}, \\  x_{8}, \\  x_{9}, \\  x_{10}, \\  x_{11}, \\  x_{12}, \\  x_{13}, \\  x_{14}, \\  x_{15}\\right)\\right)$"
      ],
      "text/plain": [
       "GroebnerBasis([x0 - 3, x1 - 4, x2 - 1, x3 - 2, x4 - 1, x5 - 2, x6 - 3, x7 - 4, x8 - 4, x9 - 1, x10 - 2, x11 - 3, x12 - 2, x13 - 3, x14 - 4, x15 - 1], x0, x1, x2, x3, x4, x5, x6, x7, x8, x9, x10, x11, x12, x13, x14, x15, domain='ZZ', order='lex')"
      ]
     },
     "execution_count": 6,
     "metadata": {},
     "output_type": "execute_result"
    }
   ],
   "source": [
    "# reduced Groebner basis\n",
    "g_basis_s"
   ]
  },
  {
   "cell_type": "code",
   "execution_count": 7,
   "id": "07a96448",
   "metadata": {},
   "outputs": [
    {
     "data": {
      "text/plain": [
       "{x0: 3,\n",
       " x1: 4,\n",
       " x2: 1,\n",
       " x3: 2,\n",
       " x4: 1,\n",
       " x5: 2,\n",
       " x6: 3,\n",
       " x7: 4,\n",
       " x8: 4,\n",
       " x9: 1,\n",
       " x10: 2,\n",
       " x11: 3,\n",
       " x12: 2,\n",
       " x13: 3,\n",
       " x14: 4,\n",
       " x15: 1}"
      ]
     },
     "execution_count": 7,
     "metadata": {},
     "output_type": "execute_result"
    }
   ],
   "source": [
    "solution_s = solve(g_basis_s, vertices)\n",
    "solution_s"
   ]
  },
  {
   "cell_type": "markdown",
   "id": "06e3f8a1",
   "metadata": {},
   "source": [
    "## Roots of Unity Method"
   ]
  },
  {
   "cell_type": "code",
   "execution_count": 8,
   "id": "7280bf20",
   "metadata": {},
   "outputs": [],
   "source": [
    "# initialise roots of unity \n",
    "unityroots = roots(x**4 - 1, multiple=True)"
   ]
  },
  {
   "cell_type": "code",
   "execution_count": 9,
   "id": "8d02ea2d",
   "metadata": {},
   "outputs": [
    {
     "data": {
      "text/plain": [
       "True"
      ]
     },
     "execution_count": 9,
     "metadata": {},
     "output_type": "execute_result"
    }
   ],
   "source": [
    "# initialises generators of I_RoI\n",
    "ideal_roi = []\n",
    "for x in vertices:\n",
    "    ideal_roi.append(x**4 - 1)\n",
    "for x_i, x_j in edges:\n",
    "    ideal_roi.append((x_i+x_j)*(x_i**2+x_j**2))\n",
    "    \n",
    "# add in shidoku puzzle constraints (given cells)\n",
    "puzzle_clues = [Symbol('x0')+I, Symbol('x5')+1, Symbol('x7')-1, Symbol('x9')-I, Symbol('x14')-1]\n",
    "ideal_roi.extend(puzzle_clues)\n",
    "\n",
    "g_basis_roi = groebner(ideal_roi, *vertices)\n",
    "\n",
    "# check whether there is a solution, i.e., V(I) != emptyset\n",
    "g_basis_roi != [1]"
   ]
  },
  {
   "cell_type": "code",
   "execution_count": 10,
   "id": "315c1663",
   "metadata": {},
   "outputs": [
    {
     "data": {
      "text/plain": [
       "{x0: 3,\n",
       " x1: 4,\n",
       " x2: 1,\n",
       " x3: 2,\n",
       " x4: 1,\n",
       " x5: 2,\n",
       " x6: 3,\n",
       " x7: 4,\n",
       " x8: 4,\n",
       " x9: 1,\n",
       " x10: 2,\n",
       " x11: 3,\n",
       " x12: 2,\n",
       " x13: 3,\n",
       " x14: 4,\n",
       " x15: 1}"
      ]
     },
     "execution_count": 10,
     "metadata": {},
     "output_type": "execute_result"
    }
   ],
   "source": [
    "solution_roi = solve(g_basis_roi, vertices)\n",
    "solution_variables_roi = {}\n",
    "\n",
    "for item in solution_roi:\n",
    "    if solution_roi[item] == I:\n",
    "        solution_variables_roi[item] = 1\n",
    "    if solution_roi[item] == -1:\n",
    "        solution_variables_roi[item] = 2\n",
    "    if solution_roi[item] == -I:\n",
    "        solution_variables_roi[item] = 3\n",
    "    if solution_roi[item] == 1:\n",
    "        solution_variables_roi[item] = 4\n",
    "solution_variables_roi"
   ]
  },
  {
   "cell_type": "code",
   "execution_count": 11,
   "id": "08806103",
   "metadata": {},
   "outputs": [
    {
     "data": {
      "text/latex": [
       "$\\displaystyle GroebnerBasis\\left(\\left( x_{0} + i, \\  x_{1} - 1, \\  x_{2} - i, \\  x_{3} + 1, \\  x_{4} - i, \\  x_{5} + 1, \\  x_{6} + i, \\  x_{7} - 1, \\  x_{8} - 1, \\  x_{9} - i, \\  x_{10} + 1, \\  x_{11} + i, \\  x_{12} + 1, \\  x_{13} + i, \\  x_{14} - 1, \\  x_{15} - i\\right), \\left( x_{0}, \\  x_{1}, \\  x_{2}, \\  x_{3}, \\  x_{4}, \\  x_{5}, \\  x_{6}, \\  x_{7}, \\  x_{8}, \\  x_{9}, \\  x_{10}, \\  x_{11}, \\  x_{12}, \\  x_{13}, \\  x_{14}, \\  x_{15}\\right)\\right)$"
      ],
      "text/plain": [
       "GroebnerBasis([x0 + I, x1 - 1, x2 - I, x3 + 1, x4 - I, x5 + 1, x6 + I, x7 - 1, x8 - 1, x9 - I, x10 + 1, x11 + I, x12 + 1, x13 + I, x14 - 1, x15 - I], x0, x1, x2, x3, x4, x5, x6, x7, x8, x9, x10, x11, x12, x13, x14, x15, domain='ZZ_I', order='lex')"
      ]
     },
     "execution_count": 11,
     "metadata": {},
     "output_type": "execute_result"
    }
   ],
   "source": [
    "g_basis_roi"
   ]
  },
  {
   "cell_type": "markdown",
   "id": "e55f3ee4",
   "metadata": {},
   "source": [
    "---\n",
    "\n",
    "---"
   ]
  },
  {
   "cell_type": "markdown",
   "id": "65129707",
   "metadata": {},
   "source": [
    "## Sum-Product Method"
   ]
  },
  {
   "cell_type": "code",
   "execution_count": 12,
   "id": "1a155083",
   "metadata": {},
   "outputs": [
    {
     "data": {
      "text/plain": [
       "True"
      ]
     },
     "execution_count": 12,
     "metadata": {},
     "output_type": "execute_result"
    }
   ],
   "source": [
    "# initialises generators of I_SP\n",
    "ideal_sp = []\n",
    "for x in vertices:\n",
    "    ideal_sp.append((x-1)*(x-2)*(x-3)*(x-4))\n",
    "\n",
    "# add in region constraints\n",
    "for i in range(len(vertices)//4):\n",
    "    # rows\n",
    "    ideal_sp.append(Symbol('x' + str(4*i)) + Symbol('x' + str(4*i+1)) \n",
    "                    + Symbol('x' + str(4*i+2)) + Symbol('x' + str(4*i+3)) - 10)\n",
    "    ideal_sp.append(Symbol('x' + str(4*i)) * Symbol('x' + str(4*i+1))  * \n",
    "                   Symbol('x' + str(4*i+2)) * Symbol('x' + str(4*i+3)) -24)\n",
    "    # columns\n",
    "    ideal_sp.append(Symbol('x' + str(i)) + Symbol('x' + str(i+4)) \n",
    "                    + Symbol('x' + str(i+8)) + Symbol('x' + str(i+12)) - 10)\n",
    "    ideal_sp.append(Symbol('x' + str(i)) * Symbol('x' + str(i+4))  * \n",
    "                   Symbol('x' + str(i+8)) * Symbol('x' + str(i+12)) -24)\n",
    "    \n",
    "block_region_constraints_sp = [Symbol('x0') + Symbol('x1') + Symbol('x4') + Symbol('x5') - 10,\n",
    "                            Symbol('x0') * Symbol('x1') * Symbol('x4') * Symbol('x5') - 24,\n",
    "                            Symbol('x2') + Symbol('x3') + Symbol('x6') + Symbol('x7') - 10,\n",
    "                            Symbol('x2') * Symbol('x3') * Symbol('x6') * Symbol('x7') - 24,\n",
    "                            Symbol('x8') + Symbol('x9') + Symbol('x12') + Symbol('x13') - 10,\n",
    "                            Symbol('x8') * Symbol('x9') * Symbol('x12') * Symbol('x13') - 24,\n",
    "                            Symbol('x10') + Symbol('x11') + Symbol('x14') + Symbol('x15') - 10,\n",
    "                            Symbol('x10') * Symbol('x11') * Symbol('x14') * Symbol('x15') - 24]\n",
    "\n",
    "ideal_sp.extend(block_region_constraints_sp)\n",
    "    \n",
    "# add in shidoku puzzle constraints (given cells)\n",
    "puzzle_clues = [Symbol('x0')-3, Symbol('x5')-2, Symbol('x7')-4, Symbol('x9')-1, Symbol('x14')-4]\n",
    "ideal_sp.extend(puzzle_clues)\n",
    "\n",
    "g_basis_sp = groebner(ideal_sp)\n",
    "\n",
    "# check whether there is a solution, i.e., V(I) != emptyset\n",
    "g_basis_sp != [1]"
   ]
  },
  {
   "cell_type": "code",
   "execution_count": 13,
   "id": "87b41378",
   "metadata": {},
   "outputs": [
    {
     "data": {
      "text/plain": [
       "{x0: 3,\n",
       " x1: 4,\n",
       " x2: 1,\n",
       " x3: 2,\n",
       " x4: 1,\n",
       " x5: 2,\n",
       " x6: 3,\n",
       " x7: 4,\n",
       " x8: 4,\n",
       " x9: 1,\n",
       " x10: 2,\n",
       " x11: 3,\n",
       " x12: 2,\n",
       " x13: 3,\n",
       " x14: 4,\n",
       " x15: 1}"
      ]
     },
     "execution_count": 13,
     "metadata": {},
     "output_type": "execute_result"
    }
   ],
   "source": [
    "solution_sp = solve(g_basis_sp, vertices)\n",
    "solution_sp"
   ]
  },
  {
   "cell_type": "code",
   "execution_count": 14,
   "id": "c87fc68e",
   "metadata": {},
   "outputs": [
    {
     "data": {
      "text/latex": [
       "$\\displaystyle GroebnerBasis\\left(\\left( x_{0} - 3, \\  x_{1} - 4, \\  x_{2} - 1, \\  x_{3} - 2, \\  x_{4} - 1, \\  x_{5} - 2, \\  x_{6} - 3, \\  x_{7} - 4, \\  x_{8} - 4, \\  x_{9} - 1, \\  x_{10} - 2, \\  x_{11} - 3, \\  x_{12} - 2, \\  x_{13} - 3, \\  x_{14} - 4, \\  x_{15} - 1\\right), \\left( x_{0}, \\  x_{1}, \\  x_{2}, \\  x_{3}, \\  x_{4}, \\  x_{5}, \\  x_{6}, \\  x_{7}, \\  x_{8}, \\  x_{9}, \\  x_{10}, \\  x_{11}, \\  x_{12}, \\  x_{13}, \\  x_{14}, \\  x_{15}\\right)\\right)$"
      ],
      "text/plain": [
       "GroebnerBasis([x0 - 3, x1 - 4, x2 - 1, x3 - 2, x4 - 1, x5 - 2, x6 - 3, x7 - 4, x8 - 4, x9 - 1, x10 - 2, x11 - 3, x12 - 2, x13 - 3, x14 - 4, x15 - 1], x0, x1, x2, x3, x4, x5, x6, x7, x8, x9, x10, x11, x12, x13, x14, x15, domain='ZZ', order='lex')"
      ]
     },
     "execution_count": 14,
     "metadata": {},
     "output_type": "execute_result"
    }
   ],
   "source": [
    "g_basis_sp"
   ]
  },
  {
   "cell_type": "markdown",
   "id": "835faa13",
   "metadata": {},
   "source": [
    "---\n",
    "---"
   ]
  },
  {
   "cell_type": "markdown",
   "id": "99e85f78",
   "metadata": {},
   "source": [
    "## Boolean Variable Method"
   ]
  },
  {
   "cell_type": "code",
   "execution_count": 15,
   "id": "3764a27e",
   "metadata": {},
   "outputs": [],
   "source": [
    "# initialise boolean variables\n",
    "boolean_variables = [Symbol('x' + str(i) + ',' + str(j)) for i in list(G.nodes) for j in range(1,5)]"
   ]
  },
  {
   "cell_type": "code",
   "execution_count": 16,
   "id": "dfa7c19c",
   "metadata": {},
   "outputs": [
    {
     "data": {
      "text/plain": [
       "True"
      ]
     },
     "execution_count": 16,
     "metadata": {},
     "output_type": "execute_result"
    }
   ],
   "source": [
    "# initialises generators of I_BV\n",
    "ideal_bv = []\n",
    "for x in boolean_variables:\n",
    "    ideal_bv.append(x*(x-1))\n",
    "\n",
    "# add in region constraints\n",
    "for i in range(len(vertices)):\n",
    "    ideal_bv.append(Symbol('x' + str(i) + ',1') + Symbol('x' + str(i) + ',2') +\n",
    "                    Symbol('x' + str(i) + ',3') + Symbol('x' + str(i) + ',4') - 1)\n",
    "\n",
    "for u,v in G.edges:\n",
    "    ideal_bv.append(Symbol('x' + str(u) + ',1') * Symbol('x' + str(v) + ',1') + \n",
    "                    Symbol('x' + str(u) + ',2') * Symbol('x' + str(v) + ',2') +\n",
    "                    Symbol('x' + str(u) + ',3') * Symbol('x' + str(v) + ',3') +\n",
    "                    Symbol('x' + str(u) + ',4') * Symbol('x' + str(v) + ',4'))\n",
    "\n",
    "# add in shidoku puzzle constraints (given cells)\n",
    "puzzle_clues = [Symbol('x0,3')-1, Symbol('x5,2')-1, Symbol('x7,4')-1, Symbol('x9,1')-1, Symbol('x14,4')-1]\n",
    "ideal_bv.extend(puzzle_clues)\n",
    "\n",
    "g_basis_bv = groebner(ideal_bv)\n",
    "\n",
    "# check whether there is a solution, i.e., V(I) != emptyset\n",
    "g_basis_bv != [1]"
   ]
  },
  {
   "cell_type": "code",
   "execution_count": 17,
   "id": "a6511343",
   "metadata": {},
   "outputs": [
    {
     "data": {
      "text/plain": [
       "{x0,3: 1,\n",
       " x1,4: 1,\n",
       " x10,2: 1,\n",
       " x11,3: 1,\n",
       " x12,2: 1,\n",
       " x13,3: 1,\n",
       " x14,4: 1,\n",
       " x15,1: 1,\n",
       " x2,1: 1,\n",
       " x3,2: 1,\n",
       " x4,1: 1,\n",
       " x5,2: 1,\n",
       " x6,3: 1,\n",
       " x7,4: 1,\n",
       " x8,4: 1,\n",
       " x9,1: 1}"
      ]
     },
     "execution_count": 17,
     "metadata": {},
     "output_type": "execute_result"
    }
   ],
   "source": [
    "solution_bv = solve(g_basis_bv, boolean_variables)\n",
    "solution_bv_reduced = {}\n",
    "for num in solution_bv:\n",
    "    if solution_bv[num] != 0:\n",
    "        solution_bv_reduced[num] = 1\n",
    "solution_bv_reduced"
   ]
  },
  {
   "cell_type": "code",
   "execution_count": 18,
   "id": "587d3b3c",
   "metadata": {},
   "outputs": [
    {
     "data": {
      "text/latex": [
       "$\\displaystyle GroebnerBasis\\left(\\left( x0,1, \\  x0,2, \\  x0,3 - 1, \\  x0,4, \\  x1,1, \\  x1,2, \\  x1,3, \\  x1,4 - 1, \\  x10,1, \\  x10,2 - 1, \\  x10,3, \\  x10,4, \\  x11,1, \\  x11,2, \\  x11,3 - 1, \\  x11,4, \\  x12,1, \\  x12,2 - 1, \\  x12,3, \\  x12,4, \\  x13,1, \\  x13,2, \\  x13,3 - 1, \\  x13,4, \\  x14,1, \\  x14,2, \\  x14,3, \\  x14,4 - 1, \\  x15,1 - 1, \\  x15,2, \\  x15,3, \\  x15,4, \\  x2,1 - 1, \\  x2,2, \\  x2,3, \\  x2,4, \\  x3,1, \\  x3,2 - 1, \\  x3,3, \\  x3,4, \\  x4,1 - 1, \\  x4,2, \\  x4,3, \\  x4,4, \\  x5,1, \\  x5,2 - 1, \\  x5,3, \\  x5,4, \\  x6,1, \\  x6,2, \\  x6,3 - 1, \\  x6,4, \\  x7,1, \\  x7,2, \\  x7,3, \\  x7,4 - 1, \\  x8,1, \\  x8,2, \\  x8,3, \\  x8,4 - 1, \\  x9,1 - 1, \\  x9,2, \\  x9,3, \\  x9,4\\right), \\left( x0,1, \\  x0,2, \\  x0,3, \\  x0,4, \\  x1,1, \\  x1,2, \\  x1,3, \\  x1,4, \\  x10,1, \\  x10,2, \\  x10,3, \\  x10,4, \\  x11,1, \\  x11,2, \\  x11,3, \\  x11,4, \\  x12,1, \\  x12,2, \\  x12,3, \\  x12,4, \\  x13,1, \\  x13,2, \\  x13,3, \\  x13,4, \\  x14,1, \\  x14,2, \\  x14,3, \\  x14,4, \\  x15,1, \\  x15,2, \\  x15,3, \\  x15,4, \\  x2,1, \\  x2,2, \\  x2,3, \\  x2,4, \\  x3,1, \\  x3,2, \\  x3,3, \\  x3,4, \\  x4,1, \\  x4,2, \\  x4,3, \\  x4,4, \\  x5,1, \\  x5,2, \\  x5,3, \\  x5,4, \\  x6,1, \\  x6,2, \\  x6,3, \\  x6,4, \\  x7,1, \\  x7,2, \\  x7,3, \\  x7,4, \\  x8,1, \\  x8,2, \\  x8,3, \\  x8,4, \\  x9,1, \\  x9,2, \\  x9,3, \\  x9,4\\right)\\right)$"
      ],
      "text/plain": [
       "GroebnerBasis([x0,1, x0,2, x0,3 - 1, x0,4, x1,1, x1,2, x1,3, x1,4 - 1, x10,1, x10,2 - 1, x10,3, x10,4, x11,1, x11,2, x11,3 - 1, x11,4, x12,1, x12,2 - 1, x12,3, x12,4, x13,1, x13,2, x13,3 - 1, x13,4, x14,1, x14,2, x14,3, x14,4 - 1, x15,1 - 1, x15,2, x15,3, x15,4, x2,1 - 1, x2,2, x2,3, x2,4, x3,1, x3,2 - 1, x3,3, x3,4, x4,1 - 1, x4,2, x4,3, x4,4, x5,1, x5,2 - 1, x5,3, x5,4, x6,1, x6,2, x6,3 - 1, x6,4, x7,1, x7,2, x7,3, x7,4 - 1, x8,1, x8,2, x8,3, x8,4 - 1, x9,1 - 1, x9,2, x9,3, x9,4], x0,1, x0,2, x0,3, x0,4, x1,1, x1,2, x1,3, x1,4, x10,1, x10,2, x10,3, x10,4, x11,1, x11,2, x11,3, x11,4, x12,1, x12,2, x12,3, x12,4, x13,1, x13,2, x13,3, x13,4, x14,1, x14,2, x14,3, x14,4, x15,1, x15,2, x15,3, x15,4, x2,1, x2,2, x2,3, x2,4, x3,1, x3,2, x3,3, x3,4, x4,1, x4,2, x4,3, x4,4, x5,1, x5,2, x5,3, x5,4, x6,1, x6,2, x6,3, x6,4, x7,1, x7,2, x7,3, x7,4, x8,1, x8,2, x8,3, x8,4, x9,1, x9,2, x9,3, x9,4, domain='ZZ', order='lex')"
      ]
     },
     "execution_count": 18,
     "metadata": {},
     "output_type": "execute_result"
    }
   ],
   "source": [
    "g_basis_bv"
   ]
  },
  {
   "cell_type": "markdown",
   "id": "48f50f08",
   "metadata": {},
   "source": [
    "---\n",
    "---"
   ]
  }
 ],
 "metadata": {
  "kernelspec": {
   "display_name": "Python 3 (ipykernel)",
   "language": "python",
   "name": "python3"
  },
  "language_info": {
   "codemirror_mode": {
    "name": "ipython",
    "version": 3
   },
   "file_extension": ".py",
   "mimetype": "text/x-python",
   "name": "python",
   "nbconvert_exporter": "python",
   "pygments_lexer": "ipython3",
   "version": "3.9.7"
  }
 },
 "nbformat": 4,
 "nbformat_minor": 5
}
